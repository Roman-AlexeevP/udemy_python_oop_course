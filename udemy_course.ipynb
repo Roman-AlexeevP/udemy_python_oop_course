{
  "nbformat": 4,
  "nbformat_minor": 0,
  "metadata": {
    "colab": {
      "name": "udemy_course.ipynb",
      "provenance": [],
      "authorship_tag": "ABX9TyOE6KjikpRDbJocQn8RUo7m"
    },
    "kernelspec": {
      "name": "python3",
      "display_name": "Python 3"
    },
    "language_info": {
      "name": "python"
    }
  },
  "cells": [
    {
      "cell_type": "code",
      "execution_count": 1,
      "metadata": {
        "colab": {
          "base_uri": "https://localhost:8080/"
        },
        "id": "i4sJqfORygOG",
        "outputId": "6501c753-e3b4-4748-952f-61975f8dcad8"
      },
      "outputs": [
        {
          "output_type": "stream",
          "name": "stdout",
          "text": [
            "hello, Marusya!\n"
          ]
        }
      ],
      "source": [
        "print(\"hello, Marusya!\")"
      ]
    }
  ]
}